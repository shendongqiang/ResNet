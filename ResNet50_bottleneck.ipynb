{
  "nbformat": 4,
  "nbformat_minor": 0,
  "metadata": {
    "celltoolbar": "Tags",
    "kernelspec": {
      "display_name": "Python 3",
      "language": "python",
      "name": "python3"
    },
    "language_info": {
      "codemirror_mode": {
        "name": "ipython",
        "version": 3
      },
      "file_extension": ".py",
      "mimetype": "text/x-python",
      "name": "python",
      "nbconvert_exporter": "python",
      "pygments_lexer": "ipython3",
      "version": "3.7.6"
    },
    "colab": {
      "name": "ResNet50_bottleneck.ipynb",
      "provenance": [],
      "collapsed_sections": [],
      "include_colab_link": true
    },
    "accelerator": "GPU"
  },
  "cells": [
    {
      "cell_type": "markdown",
      "metadata": {
        "id": "view-in-github",
        "colab_type": "text"
      },
      "source": [
        "<a href=\"https://colab.research.google.com/github/shendongqiang/ResNet/blob/main/ResNet50_bottleneck.ipynb\" target=\"_parent\"><img src=\"https://colab.research.google.com/assets/colab-badge.svg\" alt=\"Open In Colab\"/></a>"
      ]
    },
    {
      "cell_type": "code",
      "metadata": {
        "colab": {
          "base_uri": "https://localhost:8080/"
        },
        "id": "GHkG0PZFvwf3",
        "outputId": "ba6865f0-da89-4779-9a10-3d49dde52097"
      },
      "source": [
        "%matplotlib inline\n",
        "from matplotlib import pyplot as plt\n",
        "import numpy as np\n",
        "import collections\n",
        "\n",
        "import torch\n",
        "import torch.nn as nn\n",
        "import torch.nn.functional as F\n",
        "import torch.optim as optim\n",
        "\n",
        "torch.set_printoptions(edgeitems=2)\n",
        "torch.manual_seed(123)"
      ],
      "execution_count": null,
      "outputs": [
        {
          "output_type": "execute_result",
          "data": {
            "text/plain": [
              "<torch._C.Generator at 0x7f010ec43cb0>"
            ]
          },
          "metadata": {
            "tags": []
          },
          "execution_count": 3
        }
      ]
    },
    {
      "cell_type": "code",
      "metadata": {
        "colab": {
          "base_uri": "https://localhost:8080/"
        },
        "id": "s7DwZh0FwbH-",
        "outputId": "b17ec501-6f43-4e93-a999-e5b9690df8ee"
      },
      "source": [
        "from google.colab import drive\n",
        "drive.mount('/content/gdrive')"
      ],
      "execution_count": null,
      "outputs": [
        {
          "output_type": "stream",
          "text": [
            "Mounted at /content/gdrive\n"
          ],
          "name": "stdout"
        }
      ]
    },
    {
      "cell_type": "code",
      "metadata": {
        "colab": {
          "base_uri": "https://localhost:8080/"
        },
        "id": "14m5Zh4Vwpmm",
        "outputId": "50839873-b559-42b1-c84c-cc767c47f200"
      },
      "source": [
        "cd '/content/gdrive/MyDrive/MPS/ResNet/'"
      ],
      "execution_count": null,
      "outputs": [
        {
          "output_type": "stream",
          "text": [
            "/content/gdrive/MyDrive/MPS/ResNet\n"
          ],
          "name": "stdout"
        }
      ]
    },
    {
      "cell_type": "code",
      "metadata": {
        "colab": {
          "base_uri": "https://localhost:8080/",
          "height": 35
        },
        "id": "b50d5fnuw4jh",
        "outputId": "1eb2ddf2-bf4e-4815-c3fb-6cc801495c72"
      },
      "source": [
        "pwd"
      ],
      "execution_count": null,
      "outputs": [
        {
          "output_type": "execute_result",
          "data": {
            "application/vnd.google.colaboratory.intrinsic+json": {
              "type": "string"
            },
            "text/plain": [
              "'/content/gdrive/MyDrive/MPS/ResNet'"
            ]
          },
          "metadata": {
            "tags": []
          },
          "execution_count": 6
        }
      ]
    },
    {
      "cell_type": "code",
      "metadata": {
        "id": "G8ghpULnvwgh"
      },
      "source": [
        "class_names = ['airplane','automobile','bird','cat','deer',\n",
        "               'dog','frog','horse','ship','truck']"
      ],
      "execution_count": null,
      "outputs": []
    },
    {
      "cell_type": "code",
      "metadata": {
        "colab": {
          "base_uri": "https://localhost:8080/"
        },
        "id": "RDObdB9xvwhK",
        "outputId": "d20992cd-60b8-4c95-a74e-c913a2463357"
      },
      "source": [
        "from torchvision import datasets, transforms\n",
        "data_path = '../data/CIFAR10/'\n",
        "cifar10 = datasets.CIFAR10(\n",
        "    data_path, train=True, download=True,\n",
        "    transform=transforms.Compose([\n",
        "        transforms.ToTensor(),\n",
        "        transforms.Normalize((0.4915, 0.4823, 0.4468),\n",
        "                             (0.2470, 0.2435, 0.2616))\n",
        "    ]))"
      ],
      "execution_count": null,
      "outputs": [
        {
          "output_type": "stream",
          "text": [
            "Files already downloaded and verified\n"
          ],
          "name": "stdout"
        }
      ]
    },
    {
      "cell_type": "code",
      "metadata": {
        "colab": {
          "base_uri": "https://localhost:8080/"
        },
        "id": "TzOjrViXvwho",
        "outputId": "f52eb17d-1667-422e-8f5c-55a2ba652f25"
      },
      "source": [
        "cifar10_val = datasets.CIFAR10(\n",
        "    data_path, train=False, download=True,\n",
        "    transform=transforms.Compose([\n",
        "        transforms.ToTensor(),\n",
        "        transforms.Normalize((0.4915, 0.4823, 0.4468),\n",
        "                             (0.2470, 0.2435, 0.2616))\n",
        "    ]))"
      ],
      "execution_count": null,
      "outputs": [
        {
          "output_type": "stream",
          "text": [
            "Files already downloaded and verified\n"
          ],
          "name": "stdout"
        }
      ]
    },
    {
      "cell_type": "code",
      "metadata": {
        "id": "rpA3NjdpvwiE"
      },
      "source": [
        "label_map_2 = {0: 0, 2: 1}\n",
        "class_names_2 = ['airplane', 'bird']\n",
        "cifar2 = [(img, label_map_2[label])\n",
        "          for img, label in cifar10\n",
        "          if label in [0, 2]]\n",
        "cifar2_val = [(img, label_map_2[label])\n",
        "              for img, label in cifar10_val\n",
        "              if label in [0, 2]]"
      ],
      "execution_count": null,
      "outputs": []
    },
    {
      "cell_type": "code",
      "metadata": {
        "colab": {
          "base_uri": "https://localhost:8080/"
        },
        "id": "Ib3eO7o_vwms",
        "outputId": "8f001ba8-c2de-4ce6-dfc5-03ce32391aae"
      },
      "source": [
        "img, _ = cifar10[100]\n",
        "img.shape\n",
        "#img.unsqueeze(0).shape"
      ],
      "execution_count": null,
      "outputs": [
        {
          "output_type": "execute_result",
          "data": {
            "text/plain": [
              "torch.Size([3, 32, 32])"
            ]
          },
          "metadata": {
            "tags": []
          },
          "execution_count": 21
        }
      ]
    },
    {
      "cell_type": "code",
      "metadata": {
        "id": "m1G6TWoSzF2T",
        "colab": {
          "base_uri": "https://localhost:8080/",
          "height": 283
        },
        "outputId": "9e551bb3-611a-4fe6-bcc2-6a18ba77d671"
      },
      "source": [
        "    plt.imshow(np.transpose(img, (1, 2, 0)))\n",
        "    plt.show()"
      ],
      "execution_count": null,
      "outputs": [
        {
          "output_type": "stream",
          "text": [
            "Clipping input data to the valid range for imshow with RGB data ([0..1] for floats or [0..255] for integers).\n"
          ],
          "name": "stderr"
        },
        {
          "output_type": "display_data",
          "data": {
            "image/png": "[encoded data removed]",
            "text/plain": [
              "<Figure size 432x288 with 1 Axes>"
            ]
          },
          "metadata": {
            "tags": [],
            "needs_background": "light"
          }
        }
      ]
    },
    {
      "cell_type": "code",
      "metadata": {
        "colab": {
          "base_uri": "https://localhost:8080/",
          "height": 266
        },
        "id": "T2nPRmiQvwnV",
        "outputId": "84e18144-8e9f-4191-85e4-013fdf38cfc8"
      },
      "source": [
        "plt.imshow(img.mean(0), cmap='gray')\n",
        "plt.show()"
      ],
      "execution_count": null,
      "outputs": [
        {
          "output_type": "display_data",
          "data": {
            "image/png": "[encoded data removed]",
            "text/plain": [
              "<Figure size 432x288 with 1 Axes>"
            ]
          },
          "metadata": {
            "tags": [],
            "needs_background": "light"
          }
        }
      ]
    },
    {
      "cell_type": "code",
      "metadata": {
        "colab": {
          "base_uri": "https://localhost:8080/"
        },
        "id": "to6H1ErnvwpA",
        "outputId": "c755e002-5c43-4235-fb03-f1cbc3ff095d"
      },
      "source": [
        "device = (torch.device('cuda') if torch.cuda.is_available()\n",
        "          else torch.device('cpu'))\n",
        "print(f\"Training on device {device}.\")"
      ],
      "execution_count": null,
      "outputs": [
        {
          "output_type": "stream",
          "text": [
            "Training on device cuda.\n"
          ],
          "name": "stdout"
        }
      ]
    },
    {
      "cell_type": "code",
      "metadata": {
        "id": "bDCGbRAThPfY"
      },
      "source": [
        "train_loader = torch.utils.data.DataLoader(cifar2, batch_size=64,\n",
        "                                           shuffle=True)\n",
        "val_loader = torch.utils.data.DataLoader(cifar2_val, batch_size=64,\n",
        "                                         shuffle=False)\n",
        "all_acc_dict = collections.OrderedDict()\n",
        "def validate(model, train_loader, val_loader):\n",
        "    accdict = {}\n",
        "    for name, loader in [(\"train\", train_loader), (\"val\", val_loader)]:\n",
        "        correct = 0\n",
        "        total = 0\n",
        "\n",
        "        with torch.no_grad():\n",
        "            for imgs, labels in loader:\n",
        "                imgs = imgs.to(device=device)\n",
        "                labels = labels.to(device=device)\n",
        "                outputs = model(imgs)\n",
        "                _, predicted = torch.max(outputs, dim=1) # <1>\n",
        "                total += labels.shape[0]\n",
        "                correct += int((predicted == labels).sum())\n",
        "\n",
        "        print(\"Accuracy {}: {:.2f}\".format(name , correct / total))\n",
        "        accdict[name] = correct / total\n",
        "    return accdict"
      ],
      "execution_count": null,
      "outputs": []
    },
    {
      "cell_type": "code",
      "metadata": {
        "id": "MahlGnTw1Knr"
      },
      "source": [
        "class Bottleneck(nn.Module):\n",
        "    \"\"\"\n",
        "    Bottleneckを使用したresidual blockクラス\n",
        "    \"\"\"\n",
        "    def __init__(self, indim, outdim, is_first_resblock=False):\n",
        "        super(Bottleneck, self).__init__()\n",
        "        self.is_dim_changed = (indim != outdim)\n",
        "        # W, Hを小さくしてCを増やす際はstrideを2にする +\n",
        "        # projection shortcutを使う様にセット\n",
        "        if self.is_dim_changed:\n",
        "            if is_first_resblock:\n",
        "                # 最初のresblockは(W､ H)は変更しないのでstrideは1にする\n",
        "                stride = 1\n",
        "            else:\n",
        "                stride = 2\n",
        "            self.shortcut = nn.Conv2d(indim, outdim, 1, stride=stride)\n",
        "        else:\n",
        "            stride = 1\n",
        "        \n",
        "        dim_inter = int(outdim / 4)\n",
        "        self.conv1 = nn.Conv2d(indim, dim_inter , 1)\n",
        "        self.bn1 = nn.BatchNorm2d(dim_inter)\n",
        "        self.conv2 = nn.Conv2d(dim_inter, dim_inter, 3,\n",
        "                               stride=stride, padding=1)\n",
        "        self.bn2 = nn.BatchNorm2d(dim_inter)\n",
        "        self.conv3 = nn.Conv2d(dim_inter, outdim, 1)\n",
        "        self.bn3 = nn.BatchNorm2d(outdim)\n",
        "        self.relu = nn.ReLU(inplace=True)\n",
        "        \n",
        "\n",
        "    def forward(self, x):\n",
        "        shortcut = x\n",
        "  \n",
        "        out = self.conv1(x)\n",
        "        out = self.bn1(out)\n",
        "        out = self.relu(out)\n",
        "\n",
        "        out = self.conv2(out)\n",
        "        out = self.bn2(out)\n",
        "        out = self.relu(out)\n",
        "\n",
        "        out = self.conv3(out)\n",
        "        out = self.bn3(out)\n",
        "        \n",
        "        # Projection shortcutの場合\n",
        "        if self.is_dim_changed:\n",
        "            shortcut = self.shortcut(x)\n",
        "\n",
        "        out += shortcut\n",
        "        out = self.relu(out)\n",
        "\n",
        "        return out"
      ],
      "execution_count": null,
      "outputs": []
    },
    {
      "cell_type": "code",
      "metadata": {
        "id": "cJv0xXfLly07"
      },
      "source": [
        "#class Cardinality(nn.Module):\n",
        "    \"\"\"\n",
        "    ResNextのCardinality blockクラス\n",
        "    \"\"\"\n"
      ],
      "execution_count": null,
      "outputs": []
    },
    {
      "cell_type": "code",
      "metadata": {
        "id": "4vFP3WpwIQ74"
      },
      "source": [
        "class ResNet50(nn.Module):\n",
        "    \n",
        "    def __init__(self): \n",
        "          \n",
        "        super(ResNet50, self).__init__()\n",
        "        \n",
        "        # Due to memory limitation, images will be resized on-the-fly.\n",
        "        self.upsampler = nn.Upsample(size=(224, 224))\n",
        "\n",
        "        # Prior block\n",
        "        self.layer_1 = nn.Conv2d(3, 64, 7, padding=3, stride=2)\n",
        "        self.bn_1 = nn.BatchNorm2d(64)\n",
        "        self.relu = nn.ReLU(inplace=True)\n",
        "        self.pool = nn.MaxPool2d(2, 2)\n",
        "        \n",
        "        # Residual blocks\n",
        "        self.resblock1 = Bottleneck(64, 256, True)\n",
        "        self.resblock2 = Bottleneck(256, 256)\n",
        "        self.resblock3 = Bottleneck(256, 256)\n",
        "        self.resblock4 = Bottleneck(256, 512)\n",
        "        self.resblock5 = Bottleneck(512, 512)\n",
        "        self.resblock6 = Bottleneck(512, 512)\n",
        "        self.resblock7 = Bottleneck(512, 512)\n",
        "        self.resblock8 = Bottleneck(512, 1024)\n",
        "        self.resblock9 = Bottleneck(1024, 1024)\n",
        "        self.resblock10 =Bottleneck(1024, 1024)\n",
        "        self.resblock11 =Bottleneck(1024, 1024)\n",
        "        self.resblock12 =Bottleneck(1024, 1024)\n",
        "        self.resblock13 =Bottleneck(1024, 1024)\n",
        "        self.resblock14 =Bottleneck(1024, 2048)\n",
        "        self.resblock15 =Bottleneck(2048, 2048)\n",
        "        self.resblock16 =Bottleneck(2048, 2048)\n",
        "        \n",
        "        # Postreior Block\n",
        "        self.glob_avg_pool = nn.AdaptiveAvgPool2d((1, 1))        \n",
        "        self.fc = nn.Linear(2048, 10)\n",
        "\n",
        "    def forward(self, x):\n",
        "        x = self.upsampler(x)\n",
        "        \n",
        "        # Prior block\n",
        "        x = self.relu(self.bn_1(self.layer_1(x)))\n",
        "        x = self.pool(x)\n",
        "        \n",
        "        # Residual blocks\n",
        "        x = self.resblock1(x)\n",
        "        x = self.resblock2(x)\n",
        "        x = self.resblock3(x)\n",
        "        x = self.resblock4(x)\n",
        "        x = self.resblock5(x)\n",
        "        x = self.resblock6(x)\n",
        "        x = self.resblock7(x)\n",
        "        x = self.resblock8(x)\n",
        "        x = self.resblock9(x)\n",
        "        x = self.resblock10(x)\n",
        "        x = self.resblock11(x)\n",
        "        x = self.resblock12(x)\n",
        "        x = self.resblock13(x)\n",
        "        x = self.resblock14(x)\n",
        "        x = self.resblock15(x)\n",
        "        x = self.resblock16(x)\n",
        "        \n",
        "        # Postreior Block\n",
        "        x = self.glob_avg_pool(x)\n",
        "        x = x.reshape(x.size(0), -1)\n",
        "        x = self.fc(x)\n",
        "        return x"
      ],
      "execution_count": null,
      "outputs": []
    },
    {
      "cell_type": "code",
      "metadata": {
        "id": "qokk70UmiKUo"
      },
      "source": [
        "import datetime\n",
        "\n",
        "def training_loop(n_epochs, optimizer, model, loss_fn, train_loader):\n",
        "    for epoch in range(1, n_epochs + 1):\n",
        "        loss_train = 0.0\n",
        "        for imgs, labels in train_loader:\n",
        "            imgs = imgs.to(device=device)  # <1>\n",
        "            labels = labels.to(device=device)\n",
        "            outputs = model(imgs)\n",
        "            loss = loss_fn(outputs, labels)\n",
        "\n",
        "            optimizer.zero_grad()\n",
        "            loss.backward()\n",
        "            optimizer.step()\n",
        "\n",
        "            loss_train += loss.item()\n",
        "\n",
        "        if epoch == 1 or epoch % 10 == 0:\n",
        "            print('{} Epoch {}, Training loss {}'.format(\n",
        "                datetime.datetime.now(), epoch,\n",
        "                loss_train / len(train_loader)))"
      ],
      "execution_count": null,
      "outputs": []
    },
    {
      "cell_type": "code",
      "metadata": {
        "id": "QdN7Yxp-vwpX",
        "colab": {
          "base_uri": "https://localhost:8080/"
        },
        "outputId": "1f4a2de5-7e04-46fb-f6b1-2a0291cbe9d1"
      },
      "source": [
        "#model = NetResDeep(n_chans1=32, n_blocks=100).to(device=device)\n",
        "model = ResNet50().to(device=device)\n",
        "optimizer = optim.SGD(model.parameters(), lr=3e-3)\n",
        "loss_fn = nn.CrossEntropyLoss()\n",
        "\n",
        "training_loop(\n",
        "    n_epochs = 100,\n",
        "    optimizer = optimizer,\n",
        "    model = model,\n",
        "    loss_fn = loss_fn,\n",
        "    train_loader = train_loader,\n",
        ")\n",
        "all_acc_dict[\"res deep\"] = validate(model, train_loader, val_loader)"
      ],
      "execution_count": null,
      "outputs": [
        {
          "output_type": "stream",
          "text": [
            "/usr/local/lib/python3.7/dist-packages/torch/nn/functional.py:718: UserWarning: Named tensors and all their associated APIs are an experimental feature and subject to change. Please do not use them for anything important until they are released as stable. (Triggered internally at  /pytorch/c10/core/TensorImpl.h:1156.)\n",
            "  return torch.max_pool2d(input, kernel_size, stride, padding, dilation, ceil_mode)\n"
          ],
          "name": "stderr"
        },
        {
          "output_type": "stream",
          "text": [
            "2021-08-17 03:36:31.620053 Epoch 1, Training loss 0.7597967270453265\n",
            "2021-08-17 03:51:09.161113 Epoch 10, Training loss 0.31441902317059267\n",
            "2021-08-17 04:07:25.961959 Epoch 20, Training loss 0.20726110591630267\n",
            "2021-08-17 04:23:43.439227 Epoch 30, Training loss 0.09485183538169048\n",
            "2021-08-17 04:40:00.549764 Epoch 40, Training loss 0.044357189359914534\n",
            "2021-08-17 04:56:18.188778 Epoch 50, Training loss 0.02324793105785569\n",
            "2021-08-17 05:12:36.382672 Epoch 60, Training loss 0.020025534794078606\n",
            "2021-08-17 05:28:54.342425 Epoch 70, Training loss 0.057654607943911695\n",
            "2021-08-17 05:45:12.262140 Epoch 80, Training loss 0.0036271972700198636\n",
            "2021-08-17 06:01:29.817471 Epoch 90, Training loss 0.011221607771363246\n",
            "2021-08-17 06:17:46.638484 Epoch 100, Training loss 0.002524048635955962\n",
            "Accuracy train: 1.00\n",
            "Accuracy val: 0.91\n"
          ],
          "name": "stdout"
        }
      ]
    },
    {
      "cell_type": "code",
      "metadata": {
        "colab": {
          "base_uri": "https://localhost:8080/"
        },
        "id": "fmWQXHz0vwkF",
        "outputId": "22f6d745-a8e4-48c4-ba89-2e8d2fdabfa9"
      },
      "source": [
        "numel_list = [p.numel() for p in model.parameters()]\n",
        "sum(numel_list) #, numel_list"
      ],
      "execution_count": null,
      "outputs": [
        {
          "output_type": "execute_result",
          "data": {
            "text/plain": [
              "23547402"
            ]
          },
          "metadata": {
            "tags": []
          },
          "execution_count": 35
        }
      ]
    },
    {
      "cell_type": "code",
      "metadata": {
        "id": "oidF9mhYvwpY",
        "colab": {
          "base_uri": "https://localhost:8080/",
          "height": 302
        },
        "outputId": "fc18c41e-3a4e-4e6a-c750-564a38799417"
      },
      "source": [
        "trn_acc = [v['train'] for k, v in all_acc_dict.items()]\n",
        "val_acc = [v['val'] for k, v in all_acc_dict.items()]\n",
        "\n",
        "width =0.3\n",
        "plt.bar(np.arange(len(trn_acc)), trn_acc, width=width, label='train')\n",
        "plt.bar(np.arange(len(val_acc))+ width, val_acc, width=width, label='val')\n",
        "plt.xticks(np.arange(len(val_acc))+ width/2, list(all_acc_dict.keys()),\n",
        "           rotation=60)\n",
        "plt.ylabel('accuracy')\n",
        "plt.legend(loc='lower right')\n",
        "plt.ylim(0.7, 1)\n",
        "plt.savefig('accuracy_comparison.png', bbox_inches='tight')\n",
        "plt.show()\n"
      ],
      "execution_count": null,
      "outputs": [
        {
          "output_type": "display_data",
          "data": {
            "image/png": "[encoded data removed]",
            "text/plain": [
              "<Figure size 432x288 with 1 Axes>"
            ]
          },
          "metadata": {
            "tags": [],
            "needs_background": "light"
          }
        }
      ]
    },
    {
      "cell_type": "code",
      "metadata": {
        "colab": {
          "base_uri": "https://localhost:8080/",
          "height": 35
        },
        "id": "dkVPZoOWwYwh",
        "outputId": "780a5a13-0ed7-493d-fa56-61fb78dff956"
      },
      "source": [
        "pwd"
      ],
      "execution_count": null,
      "outputs": [
        {
          "output_type": "execute_result",
          "data": {
            "application/vnd.google.colaboratory.intrinsic+json": {
              "type": "string"
            },
            "text/plain": [
              "'/content/gdrive/My Drive/MPS/ResNet'"
            ]
          },
          "metadata": {
            "tags": []
          },
          "execution_count": 33
        }
      ]
    },
    {
      "cell_type": "code",
      "metadata": {
        "id": "hIL5wqgivwo7"
      },
      "source": [
        "trainedModel_path = '../trainedModel/ResNet/'\n",
        "torch.save(model.state_dict(), trainedModel_path + 'ResNet50.pt')"
      ],
      "execution_count": null,
      "outputs": []
    }
  ]
}